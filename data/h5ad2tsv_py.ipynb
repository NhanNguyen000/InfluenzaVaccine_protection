{
 "cells": [
  {
   "cell_type": "code",
   "execution_count": 1,
   "id": "230e14f8-dd73-4c2f-b7f5-513a0b146b68",
   "metadata": {
    "tags": []
   },
   "outputs": [],
   "source": [
    "import scanpy as sc\n",
    "from scipy import io"
   ]
  },
  {
   "cell_type": "code",
   "execution_count": 2,
   "id": "68e2c713-f4bb-4e3f-905d-23d40d53e764",
   "metadata": {
    "tags": []
   },
   "outputs": [],
   "source": [
    "!mkdir matrix_files"
   ]
  },
  {
   "cell_type": "code",
   "execution_count": 3,
   "id": "29b06a36-b087-4a2f-b2e6-2595d3054336",
   "metadata": {
    "tags": []
   },
   "outputs": [],
   "source": [
    "adata = sc.read_h5ad('tiv_scatac.h5ad')"
   ]
  },
  {
   "cell_type": "code",
   "execution_count": 7,
   "id": "e1a7e86f-6938-4048-8d93-69e2f77fcd83",
   "metadata": {
    "tags": []
   },
   "outputs": [],
   "source": [
    "with open('matrix_files/barcodes.tsv', 'w') as handle:\n",
    "    for item in adata.obs_names:\n",
    "        handle.write(f'{item}\\n')"
   ]
  },
  {
   "cell_type": "code",
   "execution_count": 8,
   "id": "ea719ed9-5ccb-42cf-acf2-cb4d7c1649d3",
   "metadata": {
    "tags": []
   },
   "outputs": [],
   "source": [
    "with open('matrix_files/features.tsv', 'w') as handle:\n",
    "    for item in ['\\t'.join([x,x,'Gene Expression']) for x in adata.var_names]:\n",
    "        handle.write(f'{item}\\n')"
   ]
  },
  {
   "cell_type": "code",
   "execution_count": 9,
   "id": "722d0b7b-dd03-4a21-a5b2-8482e034309a",
   "metadata": {
    "tags": []
   },
   "outputs": [],
   "source": [
    "io.mmwrite('matrix_files/matrix', adata.X.T)"
   ]
  },
  {
   "cell_type": "code",
   "execution_count": null,
   "id": "dfb1f9ad-ce27-4192-9800-30721eb357b6",
   "metadata": {},
   "outputs": [],
   "source": []
  }
 ],
 "metadata": {
  "kernelspec": {
   "display_name": "Python 3 (ipykernel)",
   "language": "python",
   "name": "python3"
  },
  "language_info": {
   "codemirror_mode": {
    "name": "ipython",
    "version": 3
   },
   "file_extension": ".py",
   "mimetype": "text/x-python",
   "name": "python",
   "nbconvert_exporter": "python",
   "pygments_lexer": "ipython3",
   "version": "3.9.6"
  }
 },
 "nbformat": 4,
 "nbformat_minor": 5
}
